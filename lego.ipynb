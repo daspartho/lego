{
  "nbformat": 4,
  "nbformat_minor": 0,
  "metadata": {
    "colab": {
      "provenance": [],
      "collapsed_sections": []
    },
    "kernelspec": {
      "name": "python3",
      "display_name": "Python 3"
    },
    "language_info": {
      "name": "python"
    },
    "accelerator": "GPU",
    "widgets": {
      "application/vnd.jupyter.widget-state+json": {
        "fff8edcca4004ba4938fc7228be333a9": {
          "model_module": "@jupyter-widgets/controls",
          "model_name": "HBoxModel",
          "model_module_version": "1.5.0",
          "state": {
            "_dom_classes": [],
            "_model_module": "@jupyter-widgets/controls",
            "_model_module_version": "1.5.0",
            "_model_name": "HBoxModel",
            "_view_count": null,
            "_view_module": "@jupyter-widgets/controls",
            "_view_module_version": "1.5.0",
            "_view_name": "HBoxView",
            "box_style": "",
            "children": [
              "IPY_MODEL_2c23e6978bbe4f1c81027c0e0b9999bb",
              "IPY_MODEL_b1d46dcb539148b6ac91166db5bfeed1",
              "IPY_MODEL_4b49d56c5cd34c79a8425453739eb422"
            ],
            "layout": "IPY_MODEL_d5956dc666904a1db0fffc3d604688df"
          }
        },
        "2c23e6978bbe4f1c81027c0e0b9999bb": {
          "model_module": "@jupyter-widgets/controls",
          "model_name": "HTMLModel",
          "model_module_version": "1.5.0",
          "state": {
            "_dom_classes": [],
            "_model_module": "@jupyter-widgets/controls",
            "_model_module_version": "1.5.0",
            "_model_name": "HTMLModel",
            "_view_count": null,
            "_view_module": "@jupyter-widgets/controls",
            "_view_module_version": "1.5.0",
            "_view_name": "HTMLView",
            "description": "",
            "description_tooltip": null,
            "layout": "IPY_MODEL_1c16fa66ba5a438884cd39ae9d11e5a4",
            "placeholder": "​",
            "style": "IPY_MODEL_eb6663c7c8b142c289d1e4c3490c233d",
            "value": "100%"
          }
        },
        "b1d46dcb539148b6ac91166db5bfeed1": {
          "model_module": "@jupyter-widgets/controls",
          "model_name": "FloatProgressModel",
          "model_module_version": "1.5.0",
          "state": {
            "_dom_classes": [],
            "_model_module": "@jupyter-widgets/controls",
            "_model_module_version": "1.5.0",
            "_model_name": "FloatProgressModel",
            "_view_count": null,
            "_view_module": "@jupyter-widgets/controls",
            "_view_module_version": "1.5.0",
            "_view_name": "ProgressView",
            "bar_style": "success",
            "description": "",
            "description_tooltip": null,
            "layout": "IPY_MODEL_b252340fb7154366bbc0571ddd6499f1",
            "max": 25,
            "min": 0,
            "orientation": "horizontal",
            "style": "IPY_MODEL_7d14ab0d66fb44fc83ccf7c956247755",
            "value": 25
          }
        },
        "4b49d56c5cd34c79a8425453739eb422": {
          "model_module": "@jupyter-widgets/controls",
          "model_name": "HTMLModel",
          "model_module_version": "1.5.0",
          "state": {
            "_dom_classes": [],
            "_model_module": "@jupyter-widgets/controls",
            "_model_module_version": "1.5.0",
            "_model_name": "HTMLModel",
            "_view_count": null,
            "_view_module": "@jupyter-widgets/controls",
            "_view_module_version": "1.5.0",
            "_view_name": "HTMLView",
            "description": "",
            "description_tooltip": null,
            "layout": "IPY_MODEL_3f20ee1a215947fa92bad0693b1dc622",
            "placeholder": "​",
            "style": "IPY_MODEL_c90e2c2505ed483da94cf613a3ff2565",
            "value": " 25/25 [28:29&lt;00:00, 67.85s/it]"
          }
        },
        "d5956dc666904a1db0fffc3d604688df": {
          "model_module": "@jupyter-widgets/base",
          "model_name": "LayoutModel",
          "model_module_version": "1.2.0",
          "state": {
            "_model_module": "@jupyter-widgets/base",
            "_model_module_version": "1.2.0",
            "_model_name": "LayoutModel",
            "_view_count": null,
            "_view_module": "@jupyter-widgets/base",
            "_view_module_version": "1.2.0",
            "_view_name": "LayoutView",
            "align_content": null,
            "align_items": null,
            "align_self": null,
            "border": null,
            "bottom": null,
            "display": null,
            "flex": null,
            "flex_flow": null,
            "grid_area": null,
            "grid_auto_columns": null,
            "grid_auto_flow": null,
            "grid_auto_rows": null,
            "grid_column": null,
            "grid_gap": null,
            "grid_row": null,
            "grid_template_areas": null,
            "grid_template_columns": null,
            "grid_template_rows": null,
            "height": null,
            "justify_content": null,
            "justify_items": null,
            "left": null,
            "margin": null,
            "max_height": null,
            "max_width": null,
            "min_height": null,
            "min_width": null,
            "object_fit": null,
            "object_position": null,
            "order": null,
            "overflow": null,
            "overflow_x": null,
            "overflow_y": null,
            "padding": null,
            "right": null,
            "top": null,
            "visibility": null,
            "width": null
          }
        },
        "1c16fa66ba5a438884cd39ae9d11e5a4": {
          "model_module": "@jupyter-widgets/base",
          "model_name": "LayoutModel",
          "model_module_version": "1.2.0",
          "state": {
            "_model_module": "@jupyter-widgets/base",
            "_model_module_version": "1.2.0",
            "_model_name": "LayoutModel",
            "_view_count": null,
            "_view_module": "@jupyter-widgets/base",
            "_view_module_version": "1.2.0",
            "_view_name": "LayoutView",
            "align_content": null,
            "align_items": null,
            "align_self": null,
            "border": null,
            "bottom": null,
            "display": null,
            "flex": null,
            "flex_flow": null,
            "grid_area": null,
            "grid_auto_columns": null,
            "grid_auto_flow": null,
            "grid_auto_rows": null,
            "grid_column": null,
            "grid_gap": null,
            "grid_row": null,
            "grid_template_areas": null,
            "grid_template_columns": null,
            "grid_template_rows": null,
            "height": null,
            "justify_content": null,
            "justify_items": null,
            "left": null,
            "margin": null,
            "max_height": null,
            "max_width": null,
            "min_height": null,
            "min_width": null,
            "object_fit": null,
            "object_position": null,
            "order": null,
            "overflow": null,
            "overflow_x": null,
            "overflow_y": null,
            "padding": null,
            "right": null,
            "top": null,
            "visibility": null,
            "width": null
          }
        },
        "eb6663c7c8b142c289d1e4c3490c233d": {
          "model_module": "@jupyter-widgets/controls",
          "model_name": "DescriptionStyleModel",
          "model_module_version": "1.5.0",
          "state": {
            "_model_module": "@jupyter-widgets/controls",
            "_model_module_version": "1.5.0",
            "_model_name": "DescriptionStyleModel",
            "_view_count": null,
            "_view_module": "@jupyter-widgets/base",
            "_view_module_version": "1.2.0",
            "_view_name": "StyleView",
            "description_width": ""
          }
        },
        "b252340fb7154366bbc0571ddd6499f1": {
          "model_module": "@jupyter-widgets/base",
          "model_name": "LayoutModel",
          "model_module_version": "1.2.0",
          "state": {
            "_model_module": "@jupyter-widgets/base",
            "_model_module_version": "1.2.0",
            "_model_name": "LayoutModel",
            "_view_count": null,
            "_view_module": "@jupyter-widgets/base",
            "_view_module_version": "1.2.0",
            "_view_name": "LayoutView",
            "align_content": null,
            "align_items": null,
            "align_self": null,
            "border": null,
            "bottom": null,
            "display": null,
            "flex": null,
            "flex_flow": null,
            "grid_area": null,
            "grid_auto_columns": null,
            "grid_auto_flow": null,
            "grid_auto_rows": null,
            "grid_column": null,
            "grid_gap": null,
            "grid_row": null,
            "grid_template_areas": null,
            "grid_template_columns": null,
            "grid_template_rows": null,
            "height": null,
            "justify_content": null,
            "justify_items": null,
            "left": null,
            "margin": null,
            "max_height": null,
            "max_width": null,
            "min_height": null,
            "min_width": null,
            "object_fit": null,
            "object_position": null,
            "order": null,
            "overflow": null,
            "overflow_x": null,
            "overflow_y": null,
            "padding": null,
            "right": null,
            "top": null,
            "visibility": null,
            "width": null
          }
        },
        "7d14ab0d66fb44fc83ccf7c956247755": {
          "model_module": "@jupyter-widgets/controls",
          "model_name": "ProgressStyleModel",
          "model_module_version": "1.5.0",
          "state": {
            "_model_module": "@jupyter-widgets/controls",
            "_model_module_version": "1.5.0",
            "_model_name": "ProgressStyleModel",
            "_view_count": null,
            "_view_module": "@jupyter-widgets/base",
            "_view_module_version": "1.2.0",
            "_view_name": "StyleView",
            "bar_color": null,
            "description_width": ""
          }
        },
        "3f20ee1a215947fa92bad0693b1dc622": {
          "model_module": "@jupyter-widgets/base",
          "model_name": "LayoutModel",
          "model_module_version": "1.2.0",
          "state": {
            "_model_module": "@jupyter-widgets/base",
            "_model_module_version": "1.2.0",
            "_model_name": "LayoutModel",
            "_view_count": null,
            "_view_module": "@jupyter-widgets/base",
            "_view_module_version": "1.2.0",
            "_view_name": "LayoutView",
            "align_content": null,
            "align_items": null,
            "align_self": null,
            "border": null,
            "bottom": null,
            "display": null,
            "flex": null,
            "flex_flow": null,
            "grid_area": null,
            "grid_auto_columns": null,
            "grid_auto_flow": null,
            "grid_auto_rows": null,
            "grid_column": null,
            "grid_gap": null,
            "grid_row": null,
            "grid_template_areas": null,
            "grid_template_columns": null,
            "grid_template_rows": null,
            "height": null,
            "justify_content": null,
            "justify_items": null,
            "left": null,
            "margin": null,
            "max_height": null,
            "max_width": null,
            "min_height": null,
            "min_width": null,
            "object_fit": null,
            "object_position": null,
            "order": null,
            "overflow": null,
            "overflow_x": null,
            "overflow_y": null,
            "padding": null,
            "right": null,
            "top": null,
            "visibility": null,
            "width": null
          }
        },
        "c90e2c2505ed483da94cf613a3ff2565": {
          "model_module": "@jupyter-widgets/controls",
          "model_name": "DescriptionStyleModel",
          "model_module_version": "1.5.0",
          "state": {
            "_model_module": "@jupyter-widgets/controls",
            "_model_module_version": "1.5.0",
            "_model_name": "DescriptionStyleModel",
            "_view_count": null,
            "_view_module": "@jupyter-widgets/base",
            "_view_module_version": "1.2.0",
            "_view_name": "StyleView",
            "description_width": ""
          }
        }
      }
    }
  },
  "cells": [
    {
      "cell_type": "code",
      "source": [
        "from google.colab import files\n",
        "\n",
        "files.upload()"
      ],
      "metadata": {
        "id": "jTxlrwzOuaU0"
      },
      "execution_count": null,
      "outputs": []
    },
    {
      "cell_type": "code",
      "source": [
        "!pip install -q kaggle\n",
        "!mkdir -p ~/.kaggle\n",
        "!mv kaggle.json ~/.kaggle/\n",
        "!chmod 600 ~/.kaggle/kaggle.json\n",
        "!kaggle datasets download -d ronanpickell/b200c-lego-classification-dataset\n",
        "!unzip b200c-lego-classification-dataset.zip\n",
        "!rm b200c-lego-classification-dataset.zip"
      ],
      "metadata": {
        "id": "u9tk4HuHuKPl"
      },
      "execution_count": null,
      "outputs": []
    },
    {
      "cell_type": "code",
      "source": [
        "import os\n",
        "from pathlib import Path\n",
        "\n",
        "data_path = Path(\"64\")\n",
        "\n",
        "def walk_dir(dir):\n",
        "    for dirpath, dirnames, filenames in os.walk(dir):\n",
        "        print(f\"There are {len(dirnames)} directories and {len(filenames)} images in {dirpath}\")\n",
        "\n",
        "walk_dir(data_path)"
      ],
      "metadata": {
        "colab": {
          "base_uri": "https://localhost:8080/"
        },
        "id": "lm6P0X9_2a5e",
        "outputId": "9b8f1795-5050-4c62-95b7-9168c6261f30"
      },
      "execution_count": 3,
      "outputs": [
        {
          "output_type": "stream",
          "name": "stdout",
          "text": [
            "There are 200 directories and 0 images in 64\n",
            "There are 0 directories and 4000 images in 64/28192\n",
            "There are 0 directories and 4000 images in 64/63864\n",
            "There are 0 directories and 4000 images in 64/30413\n",
            "There are 0 directories and 4000 images in 64/85861\n",
            "There are 0 directories and 4000 images in 64/14704\n",
            "There are 0 directories and 4000 images in 64/26601\n",
            "There are 0 directories and 4000 images in 64/3069b\n",
            "There are 0 directories and 4000 images in 64/4865\n",
            "There are 0 directories and 4000 images in 64/2420\n",
            "There are 0 directories and 4000 images in 64/4274\n",
            "There are 0 directories and 4000 images in 64/3031\n",
            "There are 0 directories and 4000 images in 64/48729\n",
            "There are 0 directories and 4000 images in 64/4589\n",
            "There are 0 directories and 4000 images in 64/24246\n",
            "There are 0 directories and 4000 images in 64/43093\n",
            "There are 0 directories and 4000 images in 64/3665\n",
            "There are 0 directories and 4000 images in 64/3070b\n",
            "There are 0 directories and 4000 images in 64/3673\n",
            "There are 0 directories and 4000 images in 64/62462\n",
            "There are 0 directories and 4000 images in 64/30136\n",
            "There are 0 directories and 4000 images in 64/26603\n",
            "There are 0 directories and 4000 images in 64/3666\n",
            "There are 0 directories and 4000 images in 64/18677\n",
            "There are 0 directories and 4000 images in 64/25269\n",
            "There are 0 directories and 4000 images in 64/4599b\n",
            "There are 0 directories and 4000 images in 64/4162\n",
            "There are 0 directories and 4000 images in 64/4477\n",
            "There are 0 directories and 4000 images in 64/99780\n",
            "There are 0 directories and 4000 images in 64/3937\n",
            "There are 0 directories and 4000 images in 64/2430\n",
            "There are 0 directories and 4000 images in 64/15392\n",
            "There are 0 directories and 4000 images in 64/3832\n",
            "There are 0 directories and 4000 images in 64/11458\n",
            "There are 0 directories and 4000 images in 64/2432\n",
            "There are 0 directories and 4000 images in 64/3941\n",
            "There are 0 directories and 4000 images in 64/3004\n",
            "There are 0 directories and 4000 images in 64/88072\n",
            "There are 0 directories and 4000 images in 64/15535\n",
            "There are 0 directories and 4000 images in 64/27925\n",
            "There are 0 directories and 4000 images in 64/93273\n",
            "There are 0 directories and 4000 images in 64/41740\n",
            "There are 0 directories and 4000 images in 64/3705\n",
            "There are 0 directories and 4000 images in 64/2454\n",
            "There are 0 directories and 4000 images in 64/2540\n",
            "There are 0 directories and 4000 images in 64/11477\n",
            "There are 0 directories and 4000 images in 64/3001\n",
            "There are 0 directories and 4000 images in 64/6134\n",
            "There are 0 directories and 4000 images in 64/6541\n",
            "There are 0 directories and 4000 images in 64/32140\n",
            "There are 0 directories and 4000 images in 64/32028\n",
            "There are 0 directories and 4000 images in 64/60478\n",
            "There are 0 directories and 4000 images in 64/15379\n",
            "There are 0 directories and 4000 images in 64/3749\n",
            "There are 0 directories and 4000 images in 64/2429\n",
            "There are 0 directories and 4000 images in 64/3713\n",
            "There are 0 directories and 4000 images in 64/87083\n",
            "There are 0 directories and 4000 images in 64/32526\n",
            "There are 0 directories and 4000 images in 64/87079\n",
            "There are 0 directories and 4000 images in 64/3068b\n",
            "There are 0 directories and 4000 images in 64/3795\n",
            "There are 0 directories and 4000 images in 64/32278\n",
            "There are 0 directories and 4000 images in 64/15573\n",
            "There are 0 directories and 4000 images in 64/85080\n",
            "There are 0 directories and 4000 images in 64/22885\n",
            "There are 0 directories and 4000 images in 64/3023\n",
            "There are 0 directories and 4000 images in 64/99563\n",
            "There are 0 directories and 4000 images in 64/3701\n",
            "There are 0 directories and 4000 images in 64/6536\n",
            "There are 0 directories and 4000 images in 64/4740\n",
            "There are 0 directories and 4000 images in 64/14769\n",
            "There are 0 directories and 4000 images in 64/30374\n",
            "There are 0 directories and 4000 images in 64/6091\n",
            "There are 0 directories and 4000 images in 64/99781\n",
            "There are 0 directories and 4000 images in 64/3032\n",
            "There are 0 directories and 4000 images in 64/60592\n",
            "There are 0 directories and 4000 images in 64/64644\n",
            "There are 0 directories and 4000 images in 64/61252\n",
            "There are 0 directories and 4000 images in 64/3035\n",
            "There are 0 directories and 4000 images in 64/24201\n",
            "There are 0 directories and 4000 images in 64/3958\n",
            "There are 0 directories and 4000 images in 64/50950\n",
            "There are 0 directories and 4000 images in 64/4073\n",
            "There are 0 directories and 4000 images in 64/61678\n",
            "There are 0 directories and 4000 images in 64/2877\n",
            "There are 0 directories and 4000 images in 64/11476\n",
            "There are 0 directories and 4000 images in 64/87087\n",
            "There are 0 directories and 4000 images in 64/85984\n",
            "There are 0 directories and 4000 images in 64/32000\n",
            "There are 0 directories and 4000 images in 64/24866\n",
            "There are 0 directories and 4000 images in 64/35480\n",
            "There are 0 directories and 4000 images in 64/14719\n",
            "There are 0 directories and 4000 images in 64/2445\n",
            "There are 0 directories and 4000 images in 64/41677\n",
            "There are 0 directories and 4000 images in 64/6632\n",
            "There are 0 directories and 4000 images in 64/3024\n",
            "There are 0 directories and 4000 images in 64/32523\n",
            "There are 0 directories and 4000 images in 64/3010\n",
            "There are 0 directories and 4000 images in 64/3034\n",
            "There are 0 directories and 4000 images in 64/3700\n",
            "There are 0 directories and 4000 images in 64/3037\n",
            "There are 0 directories and 4000 images in 64/11090\n",
            "There are 0 directories and 4000 images in 64/18654\n",
            "There are 0 directories and 4000 images in 64/60481\n",
            "There are 0 directories and 4000 images in 64/61409\n",
            "There are 0 directories and 4000 images in 64/53451\n",
            "There are 0 directories and 4000 images in 64/3460\n",
            "There are 0 directories and 4000 images in 64/87580\n",
            "There are 0 directories and 4000 images in 64/3039\n",
            "There are 0 directories and 4000 images in 64/33291\n",
            "There are 0 directories and 4000 images in 64/3022\n",
            "There are 0 directories and 4000 images in 64/3021\n",
            "There are 0 directories and 4000 images in 64/40490\n",
            "There are 0 directories and 4000 images in 64/6636\n",
            "There are 0 directories and 4000 images in 64/3245c\n",
            "There are 0 directories and 4000 images in 64/2780\n",
            "There are 0 directories and 4000 images in 64/3710\n",
            "There are 0 directories and 4000 images in 64/3009\n",
            "There are 0 directories and 4000 images in 64/15100\n",
            "There are 0 directories and 4000 images in 64/42003\n",
            "There are 0 directories and 4000 images in 64/10247\n",
            "There are 0 directories and 4000 images in 64/54200\n",
            "There are 0 directories and 4000 images in 64/3020\n",
            "There are 0 directories and 4000 images in 64/2456\n",
            "There are 0 directories and 4000 images in 64/32524\n",
            "There are 0 directories and 4000 images in 64/32184\n",
            "There are 0 directories and 4000 images in 64/60479\n",
            "There are 0 directories and 4000 images in 64/49668\n",
            "There are 0 directories and 4000 images in 64/15712\n",
            "There are 0 directories and 4000 images in 64/3062b\n",
            "There are 0 directories and 4000 images in 64/33909\n",
            "There are 0 directories and 4000 images in 64/3660\n",
            "There are 0 directories and 4000 images in 64/22388\n",
            "There are 0 directories and 4000 images in 64/26604\n",
            "There are 0 directories and 4000 images in 64/3008\n",
            "There are 0 directories and 4000 images in 64/4085\n",
            "There are 0 directories and 4000 images in 64/32013\n",
            "There are 0 directories and 4000 images in 64/2357\n",
            "There are 0 directories and 4000 images in 64/44728\n",
            "There are 0 directories and 4000 images in 64/3003\n",
            "There are 0 directories and 4000 images in 64/3002\n",
            "There are 0 directories and 4000 images in 64/99207\n",
            "There are 0 directories and 4000 images in 64/98283\n",
            "There are 0 directories and 4000 images in 64/32123\n",
            "There are 0 directories and 4000 images in 64/2412b\n",
            "There are 0 directories and 4000 images in 64/87620\n",
            "There are 0 directories and 4000 images in 64/92946\n",
            "There are 0 directories and 4000 images in 64/32064\n",
            "There are 0 directories and 4000 images in 64/26047\n",
            "There are 0 directories and 4000 images in 64/30414\n",
            "There are 0 directories and 4000 images in 64/99206\n",
            "There are 0 directories and 4000 images in 64/11211\n",
            "There are 0 directories and 4000 images in 64/60483\n",
            "There are 0 directories and 4000 images in 64/41769\n",
            "There are 0 directories and 4000 images in 64/32062\n",
            "There are 0 directories and 4000 images in 64/32316\n",
            "There are 0 directories and 4000 images in 64/11212\n",
            "There are 0 directories and 4000 images in 64/60601\n",
            "There are 0 directories and 4000 images in 64/11214\n",
            "There are 0 directories and 4000 images in 64/32952\n",
            "There are 0 directories and 4000 images in 64/3005\n",
            "There are 0 directories and 4000 images in 64/59443\n",
            "There are 0 directories and 4000 images in 64/4032\n",
            "There are 0 directories and 4000 images in 64/92280\n",
            "There are 0 directories and 4000 images in 64/3623\n",
            "There are 0 directories and 4000 images in 64/2450\n",
            "There are 0 directories and 4000 images in 64/88323\n",
            "There are 0 directories and 4000 images in 64/48336\n",
            "There are 0 directories and 4000 images in 64/2436\n",
            "There are 0 directories and 4000 images in 64/32607\n",
            "There are 0 directories and 4000 images in 64/15070\n",
            "There are 0 directories and 4000 images in 64/3065\n",
            "There are 0 directories and 4000 images in 64/20482\n",
            "There are 0 directories and 4000 images in 64/63965\n",
            "There are 0 directories and 4000 images in 64/98138\n",
            "There are 0 directories and 4000 images in 64/18651\n",
            "There are 0 directories and 4000 images in 64/32054\n",
            "There are 0 directories and 4000 images in 64/87994\n",
            "There are 0 directories and 4000 images in 64/2654\n",
            "There are 0 directories and 4000 images in 64/15068\n",
            "There are 0 directories and 4000 images in 64/60474\n",
            "There are 0 directories and 4000 images in 64/34103\n",
            "There are 0 directories and 4000 images in 64/18674\n",
            "There are 0 directories and 4000 images in 64/41770\n",
            "There are 0 directories and 4000 images in 64/43722\n",
            "There are 0 directories and 4000 images in 64/4286\n",
            "There are 0 directories and 4000 images in 64/6558\n",
            "There are 0 directories and 4000 images in 64/43723\n",
            "There are 0 directories and 4000 images in 64/60470\n",
            "There are 0 directories and 4000 images in 64/4519\n",
            "There are 0 directories and 4000 images in 64/87552\n",
            "There are 0 directories and 4000 images in 64/63868\n",
            "There are 0 directories and 4000 images in 64/4070\n",
            "There are 0 directories and 4000 images in 64/51739\n",
            "There are 0 directories and 4000 images in 64/3040\n",
            "There are 0 directories and 4000 images in 64/3622\n",
            "There are 0 directories and 4000 images in 64/2431\n",
            "There are 0 directories and 4000 images in 64/32073\n",
            "There are 0 directories and 4000 images in 64/4081b\n",
            "There are 0 directories and 4000 images in 64/32525\n",
            "There are 0 directories and 4000 images in 64/47457\n"
          ]
        }
      ]
    },
    {
      "cell_type": "code",
      "source": [
        "!mkdir sub-64"
      ],
      "metadata": {
        "id": "4LojqJoGSKQz"
      },
      "execution_count": 4,
      "outputs": []
    },
    {
      "cell_type": "code",
      "source": [
        "from random import sample\n",
        "\n",
        "num_classes=25\n",
        "\n",
        "dir_list = os.listdir(data_path)\n",
        "sample_dir = sample(dir_list, num_classes)\n",
        "for dir in sample_dir:\n",
        "    os.system(f\"cp -R 64/{dir} sub-64/{dir}\")\n",
        "\n",
        "sub_data_path = Path(\"sub-64\")\n",
        "walk_dir(sub_data_path)"
      ],
      "metadata": {
        "colab": {
          "base_uri": "https://localhost:8080/"
        },
        "id": "lEVkBe7dYEtr",
        "outputId": "a4671293-d527-4c87-9d2d-67ec7843b226"
      },
      "execution_count": 5,
      "outputs": [
        {
          "output_type": "stream",
          "name": "stdout",
          "text": [
            "There are 25 directories and 0 images in sub-64\n",
            "There are 0 directories and 4000 images in sub-64/85861\n",
            "There are 0 directories and 4000 images in sub-64/3070b\n",
            "There are 0 directories and 4000 images in sub-64/62462\n",
            "There are 0 directories and 4000 images in sub-64/4599b\n",
            "There are 0 directories and 4000 images in sub-64/3832\n",
            "There are 0 directories and 4000 images in sub-64/15535\n",
            "There are 0 directories and 4000 images in sub-64/27925\n",
            "There are 0 directories and 4000 images in sub-64/41740\n",
            "There are 0 directories and 4000 images in sub-64/60478\n",
            "There are 0 directories and 4000 images in sub-64/99563\n",
            "There are 0 directories and 4000 images in sub-64/3035\n",
            "There are 0 directories and 4000 images in sub-64/4073\n",
            "There are 0 directories and 4000 images in sub-64/61678\n",
            "There are 0 directories and 4000 images in sub-64/11476\n",
            "There are 0 directories and 4000 images in sub-64/32000\n",
            "There are 0 directories and 4000 images in sub-64/35480\n",
            "There are 0 directories and 4000 images in sub-64/14719\n",
            "There are 0 directories and 4000 images in sub-64/3037\n",
            "There are 0 directories and 4000 images in sub-64/3039\n",
            "There are 0 directories and 4000 images in sub-64/49668\n",
            "There are 0 directories and 4000 images in sub-64/4085\n",
            "There are 0 directories and 4000 images in sub-64/41769\n",
            "There are 0 directories and 4000 images in sub-64/11212\n",
            "There are 0 directories and 4000 images in sub-64/92280\n",
            "There are 0 directories and 4000 images in sub-64/4519\n"
          ]
        }
      ]
    },
    {
      "cell_type": "code",
      "source": [
        "import torch\n",
        "\n",
        "device = \"cuda\" if torch.cuda.is_available() else \"cpu\"\n",
        "device"
      ],
      "metadata": {
        "colab": {
          "base_uri": "https://localhost:8080/",
          "height": 36
        },
        "id": "6hzlm5g_FYsX",
        "outputId": "2c4b5eed-3ea2-4519-d08f-f3cce8432d2b"
      },
      "execution_count": 6,
      "outputs": [
        {
          "output_type": "execute_result",
          "data": {
            "text/plain": [
              "'cuda'"
            ],
            "application/vnd.google.colaboratory.intrinsic+json": {
              "type": "string"
            }
          },
          "metadata": {},
          "execution_count": 6
        }
      ]
    },
    {
      "cell_type": "code",
      "source": [
        "from torchvision import datasets, transforms\n",
        "\n",
        "dataset = datasets.ImageFolder(root=sub_data_path, transform=transforms.ToTensor())\n",
        "dataset"
      ],
      "metadata": {
        "colab": {
          "base_uri": "https://localhost:8080/"
        },
        "id": "IOgEXX0j-xsd",
        "outputId": "794d325f-aed6-499e-bd41-15f66c7b5583"
      },
      "execution_count": 7,
      "outputs": [
        {
          "output_type": "execute_result",
          "data": {
            "text/plain": [
              "Dataset ImageFolder\n",
              "    Number of datapoints: 100000\n",
              "    Root location: sub-64\n",
              "    StandardTransform\n",
              "Transform: ToTensor()"
            ]
          },
          "metadata": {},
          "execution_count": 7
        }
      ]
    },
    {
      "cell_type": "code",
      "source": [
        "from torch.utils.data import random_split, DataLoader"
      ],
      "metadata": {
        "id": "dpk8C884AWOl"
      },
      "execution_count": 8,
      "outputs": []
    },
    {
      "cell_type": "code",
      "source": [
        "train_dataset, test_dataset = random_split(dataset, (num_classes*3200, num_classes*800))\n",
        "\n",
        "train_dataloader = DataLoader(train_dataset, 256, shuffle=True)\n",
        "test_dataloader = DataLoader(test_dataset, 256, shuffle=False)"
      ],
      "metadata": {
        "id": "i04iAcoR_6CO"
      },
      "execution_count": null,
      "outputs": []
    },
    {
      "cell_type": "code",
      "source": [
        "from torch import nn\n",
        "\n",
        "class TinyVGG(nn.Module):\n",
        "    def __init__(self, input: int, hidden: int, output: int) -> None:\n",
        "        super().__init__()\n",
        "        self.conv_block1 = nn.Sequential(\n",
        "            nn.Conv2d(\n",
        "                in_channels = input,\n",
        "                out_channels = hidden,\n",
        "                kernel_size=3,\n",
        "                stride=1,\n",
        "                padding=1,\n",
        "            ),\n",
        "            nn.ReLU(),\n",
        "            nn.Conv2d(\n",
        "                in_channels = hidden,\n",
        "                out_channels = hidden,\n",
        "                kernel_size=3,\n",
        "                stride=1,\n",
        "                padding=1,\n",
        "            ),\n",
        "            nn.ReLU(),\n",
        "            nn.MaxPool2d(\n",
        "                kernel_size=2,\n",
        "                stride=2,\n",
        "                ),\n",
        "        )\n",
        "\n",
        "        self.conv_block2 = nn.Sequential(\n",
        "            nn.Conv2d(\n",
        "                in_channels = hidden,\n",
        "                out_channels = hidden,\n",
        "                kernel_size=3,\n",
        "                stride=1,\n",
        "                padding=1,\n",
        "            ),\n",
        "            nn.ReLU(),\n",
        "            nn.Conv2d(\n",
        "                in_channels = hidden,\n",
        "                out_channels = hidden,\n",
        "                kernel_size=3,\n",
        "                stride=1,\n",
        "                padding=1,\n",
        "            ),\n",
        "            nn.ReLU(),\n",
        "            nn.MaxPool2d(\n",
        "                kernel_size=2,\n",
        "                stride=2,\n",
        "                ),\n",
        "        )\n",
        "\n",
        "        self.classifier = nn.Sequential(\n",
        "            nn.Flatten(),\n",
        "            nn.Linear(\n",
        "                in_features=hidden*16*16, \n",
        "                out_features=output,\n",
        "                ),\n",
        "        )\n",
        "\n",
        "    def forward(self, x: torch.Tensor):\n",
        "        return self.classifier(self.conv_block2(self.conv_block1(x)))\n",
        "\n",
        "model = TinyVGG(3, 10, num_classes).to(device)\n",
        "model"
      ],
      "metadata": {
        "colab": {
          "base_uri": "https://localhost:8080/"
        },
        "id": "sepqmHXMCYiM",
        "outputId": "0e0d9b9f-b5f1-48f1-b227-43d46072442b"
      },
      "execution_count": 11,
      "outputs": [
        {
          "output_type": "execute_result",
          "data": {
            "text/plain": [
              "TinyVGG(\n",
              "  (conv_block1): Sequential(\n",
              "    (0): Conv2d(3, 10, kernel_size=(3, 3), stride=(1, 1), padding=(1, 1))\n",
              "    (1): ReLU()\n",
              "    (2): Conv2d(10, 10, kernel_size=(3, 3), stride=(1, 1), padding=(1, 1))\n",
              "    (3): ReLU()\n",
              "    (4): MaxPool2d(kernel_size=2, stride=2, padding=0, dilation=1, ceil_mode=False)\n",
              "  )\n",
              "  (conv_block2): Sequential(\n",
              "    (0): Conv2d(10, 10, kernel_size=(3, 3), stride=(1, 1), padding=(1, 1))\n",
              "    (1): ReLU()\n",
              "    (2): Conv2d(10, 10, kernel_size=(3, 3), stride=(1, 1), padding=(1, 1))\n",
              "    (3): ReLU()\n",
              "    (4): MaxPool2d(kernel_size=2, stride=2, padding=0, dilation=1, ceil_mode=False)\n",
              "  )\n",
              "  (classifier): Sequential(\n",
              "    (0): Flatten(start_dim=1, end_dim=-1)\n",
              "    (1): Linear(in_features=2560, out_features=25, bias=True)\n",
              "  )\n",
              ")"
            ]
          },
          "metadata": {},
          "execution_count": 11
        }
      ]
    },
    {
      "cell_type": "code",
      "source": [
        "def train_step(model: nn.Module,\n",
        "              dataloader: torch.utils.data.DataLoader,\n",
        "              loss_fn: torch.nn.Module,\n",
        "              optimizer: torch.optim.Optimizer):\n",
        "    \n",
        "    model.train()\n",
        "    train_loss, train_acc = 0, 0\n",
        "\n",
        "    for X, y in dataloader:\n",
        "\n",
        "        X, y = X.to(device), y.to(device)\n",
        "\n",
        "        pred = model(X)\n",
        "\n",
        "        loss = loss_fn(pred, y)\n",
        "        train_loss+=loss.item()\n",
        "\n",
        "        optimizer.zero_grad()\n",
        "        loss.backward()\n",
        "        optimizer.step()\n",
        "\n",
        "        pred_class = torch.argmax(torch.softmax(pred, dim=1), dim=1)\n",
        "        train_acc += (pred_class==y).sum().item()/len(pred_class)\n",
        "    \n",
        "    train_loss = train_loss/len(dataloader)    \n",
        "    train_acc = train_acc/len(dataloader)  \n",
        "    return train_loss, train_acc"
      ],
      "metadata": {
        "id": "85VlZUFBCe6y"
      },
      "execution_count": 12,
      "outputs": []
    },
    {
      "cell_type": "code",
      "source": [
        "def test_step(model: nn.Module,\n",
        "              dataloader: torch.utils.data.DataLoader,\n",
        "              loss_fn: torch.nn.Module):\n",
        "    \n",
        "    model.eval()\n",
        "    test_loss, test_acc = 0, 0\n",
        "\n",
        "    with torch.inference_mode():\n",
        "\n",
        "        for X, y in dataloader:\n",
        "\n",
        "            X, y = X.to(device), y.to(device)\n",
        "\n",
        "            pred = model(X)\n",
        "\n",
        "            loss = loss_fn(pred, y)\n",
        "            test_loss+=loss.item()\n",
        "\n",
        "            pred_class = torch.argmax(torch.softmax(pred, dim=1), dim=1)\n",
        "            test_acc+= (pred_class==y).sum().item()/len(pred_class)\n",
        "\n",
        "    test_loss = test_loss/len(dataloader)    \n",
        "    test_acc = test_acc/len(dataloader)   \n",
        "    return test_loss, test_acc"
      ],
      "metadata": {
        "id": "rFHc48dcC9Ak"
      },
      "execution_count": 13,
      "outputs": []
    },
    {
      "cell_type": "code",
      "source": [
        "from tqdm.auto import tqdm\n",
        "\n",
        "def train(model: torch.nn.Module,\n",
        "          train_dataloader: torch.utils.data.DataLoader,\n",
        "          test_dataloader: torch.utils.data.DataLoader,\n",
        "          loss_fn: torch.nn.Module,\n",
        "          optimizer: torch.optim.Optimizer,\n",
        "          epochs: int = 5):\n",
        "    \n",
        "    results = {\"train loss\":[],\n",
        "               \"train acc\":[],\n",
        "               \"test loss\":[],\n",
        "               \"test acc\":[]\n",
        "               }\n",
        "    for epoch in tqdm(range(epochs)):\n",
        "        train_loss, train_acc = train_step(model, \n",
        "                                           train_dataloader, \n",
        "                                           loss_fn, \n",
        "                                           optimizer)\n",
        "        test_loss, test_acc = test_step(model, \n",
        "                                        train_dataloader, \n",
        "                                        loss_fn)\n",
        "        \n",
        "        results[\"train loss\"].append(train_loss)\n",
        "        results[\"train acc\"].append(train_acc)\n",
        "        results[\"test loss\"].append(test_loss)\n",
        "        results[\"test acc\"].append(test_acc)\n",
        "    \n",
        "    return results"
      ],
      "metadata": {
        "id": "cCZ5IgO_C_SW"
      },
      "execution_count": 14,
      "outputs": []
    },
    {
      "cell_type": "code",
      "source": [
        "from timeit import default_timer as timer\n",
        "\n",
        "NUM_EPOCHS = 25\n",
        "\n",
        "loss_fn = nn.CrossEntropyLoss()\n",
        "optimizer = torch.optim.Adam(params=model.parameters(), lr=1e-3)\n",
        "\n",
        "start = timer()\n",
        "\n",
        "model_results = train(model,\n",
        "                      train_dataloader,\n",
        "                      test_dataloader,\n",
        "                      loss_fn,\n",
        "                      optimizer, \n",
        "                      NUM_EPOCHS)\n",
        "\n",
        "end = timer()\n",
        "print(f\"training time: {end-start:.3f} seconds\")"
      ],
      "metadata": {
        "colab": {
          "base_uri": "https://localhost:8080/",
          "height": 66,
          "referenced_widgets": [
            "fff8edcca4004ba4938fc7228be333a9",
            "2c23e6978bbe4f1c81027c0e0b9999bb",
            "b1d46dcb539148b6ac91166db5bfeed1",
            "4b49d56c5cd34c79a8425453739eb422",
            "d5956dc666904a1db0fffc3d604688df",
            "1c16fa66ba5a438884cd39ae9d11e5a4",
            "eb6663c7c8b142c289d1e4c3490c233d",
            "b252340fb7154366bbc0571ddd6499f1",
            "7d14ab0d66fb44fc83ccf7c956247755",
            "3f20ee1a215947fa92bad0693b1dc622",
            "c90e2c2505ed483da94cf613a3ff2565"
          ]
        },
        "id": "B9dDVMRzDB0t",
        "outputId": "7201ff62-ddc2-45a0-f0fa-b8647629be03"
      },
      "execution_count": 15,
      "outputs": [
        {
          "output_type": "display_data",
          "data": {
            "text/plain": [
              "  0%|          | 0/25 [00:00<?, ?it/s]"
            ],
            "application/vnd.jupyter.widget-view+json": {
              "version_major": 2,
              "version_minor": 0,
              "model_id": "fff8edcca4004ba4938fc7228be333a9"
            }
          },
          "metadata": {}
        },
        {
          "output_type": "stream",
          "name": "stdout",
          "text": [
            "training time: 1709.653 seconds\n"
          ]
        }
      ]
    },
    {
      "cell_type": "code",
      "source": [
        "import matplotlib.pyplot as plt\n",
        "from typing import Tuple, Dict, List\n",
        "\n",
        "def plot_loss_curves(results: Dict[str, List[float]]):\n",
        "\n",
        "    train_loss = results[\"train loss\"]\n",
        "    train_acc = results[\"train acc\"]\n",
        "    test_loss = results[\"test loss\"]\n",
        "    test_acc = results[\"test acc\"]\n",
        "\n",
        "    epochs = range(len(train_loss))\n",
        "\n",
        "    plt.figure(figsize=(15,7))\n",
        "\n",
        "    plt.subplot(1,2,1)\n",
        "    plt.plot(epochs, train_loss, label=\"train loss\")\n",
        "    plt.plot(epochs, test_loss, label=\"test loss\")\n",
        "    plt.title(\"Loss\")\n",
        "    plt.xlabel(\"Epochs\")\n",
        "    plt.legend()\n",
        "\n",
        "    plt.subplot(1,2,2)\n",
        "    plt.plot(epochs, train_acc, label=\"train acc\")\n",
        "    plt.plot(epochs, test_acc, label=\"test acc\")\n",
        "    plt.title(\"Acc\")\n",
        "    plt.xlabel(\"Epochs\")\n",
        "    plt.legend()\n",
        "\n",
        "plot_loss_curves(model_results)"
      ],
      "metadata": {
        "colab": {
          "base_uri": "https://localhost:8080/",
          "height": 458
        },
        "id": "pvr1hFzIDH9V",
        "outputId": "dc9f9903-ab42-4fc5-f9aa-ab08dcd82162"
      },
      "execution_count": 16,
      "outputs": [
        {
          "output_type": "display_data",
          "data": {
            "text/plain": [
              "<Figure size 1080x504 with 2 Axes>"
            ],
            "image/png": "[encoded data removed]"
          },
          "metadata": {
            "needs_background": "light"
          }
        }
      ]
    }
  ]
}